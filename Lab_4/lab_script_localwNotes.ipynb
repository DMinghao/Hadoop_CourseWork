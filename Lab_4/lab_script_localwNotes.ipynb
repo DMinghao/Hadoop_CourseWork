{
 "cells": [
  {
   "cell_type": "markdown",
   "metadata": {},
   "source": [
    "MapReduce vs. Spark (https://www.xplenty.com/blog/apache-spark-vs-hadoop-mapreduce/)\n",
    "\n",
    "Why do we always repeat work_count example?\n",
    "\n",
    "The first reason is because it is the easiest one example to understand the logic behind hadoop for rookies in this area lol. \n",
    "The second reason is that this example has huge amount of applications.\n",
    "The most straightforward example is that it helps companies like Amazon to calculate which items are the most frequently bought ones by customers. \n",
    "We can also figure out the most frequent doubleton or tripleton items. I believe everyone heard of the beer and diaper case, right? That is an easy task for Hadoop system.\n",
    "\n",
    "If you really want to dig deeper, MapReduce/Spark also can do a lot of amazing things, like Matrix Multiplication. (example http://www.mathcs.emory.edu/~cheung/Courses/554/Syllabus/9-parallel/matrix-mult.html)\n",
    "\n",
    "\n"
   ]
  },
  {
   "cell_type": "code",
   "execution_count": 1,
   "metadata": {},
   "outputs": [],
   "source": [
    "from pyspark import SparkConf\n",
    "from pyspark.context import SparkContext\n",
    "\n",
    "sc = SparkContext.getOrCreate(SparkConf().setMaster(\"local[*]\"))\n",
    "\n",
    "# Starting off by reading the input file as text_file\n",
    "text_file = sc.textFile(\"input/input.txt\")"
   ]
  },
  {
   "cell_type": "code",
   "execution_count": 3,
   "metadata": {},
   "outputs": [],
   "source": [
    "'''\n",
    "explanation: \n",
    "step1:\n",
    "\n",
    "flatMap(lambda line: line.split(\" \"))\n",
    "we need to break the file into lines for which splitting on the base of “ ” is required.\n",
    "\n",
    "Here **lambda** function is an anonymous function. Sometimes we use anonymous function to make the code tighter.\n",
    "It is exactly the same as:\n",
    "\n",
    "def split_word(line):\n",
    "    return line.split(\" \")\n",
    "    \n",
    "flatMap(split_word)\n",
    "\n",
    "step2:\n",
    "\n",
    "map(lambda word: (word, 1))\n",
    "map function has the same use like the MapReduce **Mapper** function. \n",
    "It counts each word 1 time every time it appears. \n",
    "Like [I I love hadoop] --> (I,1) (I,1) (love,1) (hadoop,1)\n",
    "Remember: It won't do things like (I,2) because we define **lambda word: (word, 1)** in the map function\n",
    "\n",
    "Step3:\n",
    "\n",
    "reduceByKey(lambda a, b: a + b)\n",
    "Since this function works by **key**, a and b here are the values of previous step.\n",
    "For example, \n",
    "\n",
    "input for this step: (I,1) (I,1) (love,1) (hadoop,1)\n",
    "output for this step: (I,2) (love,1) (hadoop,1)\n",
    "\n",
    "'''\n",
    "\n",
    "counts = text_file.flatMap(lambda line: line.split(\" \")) \\\n",
    "             .map(lambda word: (word, 1)) \\\n",
    "             .reduceByKey(lambda a, b: a + b)\n",
    "\n",
    "### output file must not exist!!! Otherwise, it will appear error.\n",
    "counts.saveAsTextFile(\"output/\")"
   ]
  },
  {
   "cell_type": "code",
   "execution_count": 4,
   "metadata": {},
   "outputs": [],
   "source": [
    "'''\n",
    "Here is the same map reduce scripts without any lambda function\n",
    "'''\n",
    "\n",
    "def split_word(line):\n",
    "    return line.split(\" \")\n",
    "\n",
    "def word_ct(word):\n",
    "    return (word,1)\n",
    "\n",
    "def value_add(a,b):\n",
    "    return a+b\n",
    "\n",
    "counts = text_file.flatMap(split_word) \\\n",
    "             .map(word_ct) \\\n",
    "             .reduceByKey(value_add)\n",
    "\n",
    "### output file must not exist!!! Otherwise, it will appear error.\n",
    "counts.saveAsTextFile(\"output1/\")"
   ]
  },
  {
   "cell_type": "code",
   "execution_count": null,
   "metadata": {},
   "outputs": [],
   "source": []
  }
 ],
 "metadata": {
  "kernelspec": {
   "display_name": "Python 3",
   "language": "python",
   "name": "python3"
  },
  "language_info": {
   "codemirror_mode": {
    "name": "ipython",
    "version": 3
   },
   "file_extension": ".py",
   "mimetype": "text/x-python",
   "name": "python",
   "nbconvert_exporter": "python",
   "pygments_lexer": "ipython3",
   "version": "3.8.5"
  }
 },
 "nbformat": 4,
 "nbformat_minor": 4
}
