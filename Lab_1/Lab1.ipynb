{
 "metadata": {
  "language_info": {
   "codemirror_mode": {
    "name": "ipython",
    "version": 3
   },
   "file_extension": ".py",
   "mimetype": "text/x-python",
   "name": "python",
   "nbconvert_exporter": "python",
   "pygments_lexer": "ipython3",
   "version": "3.8.5-final"
  },
  "orig_nbformat": 2,
  "kernelspec": {
   "name": "python38564bite4ca90cc203d4c56a5d8a0fe8e665971",
   "display_name": "Python 3.8.5 64-bit"
  }
 },
 "nbformat": 4,
 "nbformat_minor": 2,
 "cells": [
  {
   "cell_type": "code",
   "execution_count": 1,
   "metadata": {},
   "outputs": [
    {
     "output_type": "stream",
     "name": "stdout",
     "text": [
      "Welcome to 330740Large Scale Computing\n"
     ]
    }
   ],
   "source": [
    "print(\"Welcome to 330740Large Scale Computing\")"
   ]
  },
  {
   "cell_type": "code",
   "execution_count": 2,
   "metadata": {},
   "outputs": [
    {
     "output_type": "stream",
     "name": "stdout",
     "text": [
      "330740\n3.1415\n"
     ]
    }
   ],
   "source": [
    "myint = 330740\n",
    "print(myint)\n",
    "myfloat = 3.1415\n",
    "print(myfloat)"
   ]
  },
  {
   "cell_type": "code",
   "execution_count": 3,
   "metadata": {},
   "outputs": [
    {
     "output_type": "stream",
     "name": "stdout",
     "text": [
      "330740\nHadoop\n"
     ]
    }
   ],
   "source": [
    "myFirstString = '330740'\n",
    "print(myFirstString)\n",
    "mySecondString = \"Hadoop\"\n",
    "print(mySecondString)"
   ]
  },
  {
   "cell_type": "code",
   "execution_count": 4,
   "metadata": {},
   "outputs": [
    {
     "output_type": "stream",
     "name": "stdout",
     "text": [
      "330743.1415\n330736.8585\n1039019.7100000001\n105280.91675950978\n2.8799999999809245\n330740Hadoop\n330740Hadoop\n"
     ]
    }
   ],
   "source": [
    "addition = myint + myfloat\n",
    "print(addition)\n",
    "subtraction = myint - myfloat\n",
    "print(subtraction)\n",
    "multiplication = myint * myfloat\n",
    "print(multiplication)\n",
    "division = myint / myfloat\n",
    "print(division)\n",
    "mod = myint % myfloat\n",
    "print(mod)\n",
    "concatenate1 = myFirstString + mySecondString\n",
    "print(concatenate1)\n",
    "concatenate2 = str(myint) + mySecondString\n",
    "print(concatenate2)"
   ]
  },
  {
   "cell_type": "code",
   "execution_count": 5,
   "metadata": {},
   "outputs": [
    {
     "output_type": "stream",
     "name": "stdout",
     "text": [
      "330\n740\n['large', 'scale', 'computing']\n"
     ]
    }
   ],
   "source": [
    "intList = [330, 740]\n",
    "stringList = []\n",
    "stringList.append(\"large\")\n",
    "stringList.append(\"scale\")\n",
    "stringList.append(\"computing\")\n",
    "print(intList[0])\n",
    "print(intList[1])\n",
    "print(stringList)"
   ]
  },
  {
   "cell_type": "code",
   "execution_count": 6,
   "metadata": {},
   "outputs": [
    {
     "output_type": "stream",
     "name": "stdout",
     "text": [
      "True\nFalse\n"
     ]
    }
   ],
   "source": [
    "name = \"John\"\n",
    "age = 23\n",
    "print(name == \"John\")\n",
    "print(age > 25)"
   ]
  },
  {
   "cell_type": "code",
   "execution_count": 7,
   "metadata": {},
   "outputs": [
    {
     "output_type": "stream",
     "name": "stdout",
     "text": [
      "B\n"
     ]
    }
   ],
   "source": [
    "score = 85\n",
    "if score >= 90:\n",
    "    print(\"A\")\n",
    "elif score >=80:\n",
    "    print(\"B\")\n",
    "else:\n",
    "    print(\"C\")\n"
   ]
  },
  {
   "cell_type": "code",
   "execution_count": 8,
   "metadata": {},
   "outputs": [
    {
     "output_type": "stream",
     "name": "stdout",
     "text": [
      "0\n1\n2\n3\n4\nlarge\nscale\ncomputing\n"
     ]
    }
   ],
   "source": [
    "for x in range(5):\n",
    "    print(x)\n",
    "for x in stringList:\n",
    "    print(x)"
   ]
  },
  {
   "cell_type": "code",
   "execution_count": 9,
   "metadata": {},
   "outputs": [
    {
     "output_type": "stream",
     "name": "stdout",
     "text": [
      "B\n"
     ]
    }
   ],
   "source": [
    "def convert2letter(totalScore):\n",
    "    if totalScore >= 90:\n",
    "        return \"A\"\n",
    "    elif totalScore >= 80:\n",
    "        return \"B\"\n",
    "    else:\n",
    "        return \"C\"\n",
    "johnScore = 80\n",
    "print(convert2letter(johnScore))"
   ]
  },
  {
   "cell_type": "code",
   "execution_count": 10,
   "metadata": {},
   "outputs": [
    {
     "output_type": "stream",
     "name": "stdout",
     "text": [
      "Integer: 330740\nFloat: 3.141500\nFirst element of stringList: large\nintList has 2 elements, and the last element is 740\n"
     ]
    }
   ],
   "source": [
    "print(\"Integer: %d\" % myint)\n",
    "print(\"Float: %f\" % myfloat)\n",
    "print(\"First element of stringList: %s\" % stringList[0])\n",
    "print(\"intList has %d elements, and the last element is %d\" % (len(intList),intList[-1]))"
   ]
  },
  {
   "cell_type": "code",
   "execution_count": 11,
   "metadata": {},
   "outputs": [
    {
     "output_type": "stream",
     "name": "stdout",
     "text": [
      "Jack receives C from my course\nJill receives A from my course\n"
     ]
    }
   ],
   "source": [
    "scoreBook={}\n",
    "scoreBook[\"John\"]=80\n",
    "scoreBook[\"Jack\"]=75\n",
    "scoreBook[\"Jill\"]=92\n",
    "print(\"Jack receives %s from my course\" %convert2letter(scoreBook[\"Jack\"]))\n",
    "print(\"Jill receives %s from my course\" %convert2letter(scoreBook[\"Jill\"]))"
   ]
  },
  {
   "cell_type": "code",
   "execution_count": null,
   "metadata": {},
   "outputs": [],
   "source": []
  }
 ]
}